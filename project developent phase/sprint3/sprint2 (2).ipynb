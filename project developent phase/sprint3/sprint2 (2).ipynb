{
  "nbformat": 4,
  "nbformat_minor": 0,
  "metadata": {
    "colab": {
      "provenance": []
    },
    "kernelspec": {
      "name": "python3",
      "display_name": "Python 3"
    },
    "language_info": {
      "name": "python"
    }
  },
  "cells": [
    {
      "cell_type": "code",
      "execution_count": 5,
      "metadata": {
        "colab": {
          "base_uri": "https://localhost:8080/"
        },
        "id": "hdIrb_1HQJa-",
        "outputId": "aee47b6d-7b3c-44e5-c6be-965f712ea9a5"
      },
      "outputs": [
        {
          "output_type": "stream",
          "name": "stdout",
          "text": [
            "Looking in indexes: https://pypi.org/simple, https://us-python.pkg.dev/colab-wheels/public/simple/\n",
            "Collecting twilio\n",
            "  Downloading twilio-7.15.3-py2.py3-none-any.whl (1.4 MB)\n",
            "\u001b[K     |████████████████████████████████| 1.4 MB 4.3 MB/s \n",
            "\u001b[?25hCollecting PyJWT<3.0.0,>=2.0.0\n",
            "  Downloading PyJWT-2.6.0-py3-none-any.whl (20 kB)\n",
            "Requirement already satisfied: requests>=2.0.0 in /usr/local/lib/python3.7/dist-packages (from twilio) (2.28.1)\n",
            "Requirement already satisfied: pytz in /usr/local/lib/python3.7/dist-packages (from twilio) (2022.6)\n",
            "Requirement already satisfied: idna<4,>=2.5 in /usr/local/lib/python3.7/dist-packages (from requests>=2.0.0->twilio) (2.10)\n",
            "Requirement already satisfied: charset-normalizer<3,>=2 in /usr/local/lib/python3.7/dist-packages (from requests>=2.0.0->twilio) (2.1.1)\n",
            "Requirement already satisfied: certifi>=2017.4.17 in /usr/local/lib/python3.7/dist-packages (from requests>=2.0.0->twilio) (2022.9.24)\n",
            "Requirement already satisfied: urllib3<1.27,>=1.21.1 in /usr/local/lib/python3.7/dist-packages (from requests>=2.0.0->twilio) (1.26.12)\n",
            "Installing collected packages: PyJWT, twilio\n",
            "Successfully installed PyJWT-2.6.0 twilio-7.15.3\n"
          ]
        }
      ],
      "source": [
        " !pip install twilio"
      ]
    },
    {
      "cell_type": "code",
      "source": [
        "  account_sid = 'ACb65b5505be868c24bd20543207a856a1'\n",
        "    auth_token = '0e306096c14f4fb7cce1d6536c09b3b2'\n",
        "    client = Client(account_sid, auth_token)\n",
        "\n",
        "    message = client.messages.create(\n",
        "         body='Forest Fire Detected !! Be Aware, precaustion needed move to safe place----Team IBM',\n",
        "         from_='+19182624326',\n",
        "         to='+919361092334' \n",
        "     )\n",
        "\n",
        "  else:\n",
        "    print(np.argmax(classes[0])==0, max(classes[0]),end=\" \")\n",
        "    print(\"No forest fire is detected!!!\")"
      ],
      "metadata": {
        "id": "U37W75bZTQsw"
      },
      "execution_count": null,
      "outputs": []
    }
  ]
}